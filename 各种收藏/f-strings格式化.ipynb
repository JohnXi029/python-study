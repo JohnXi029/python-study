{
 "nbformat": 4,
 "nbformat_minor": 2,
 "metadata": {
  "language_info": {
   "name": "python",
   "codemirror_mode": {
    "name": "ipython",
    "version": 3
   },
   "version": "3.7.0-final"
  },
  "orig_nbformat": 2,
  "file_extension": ".py",
  "mimetype": "text/x-python",
  "name": "python",
  "npconvert_exporter": "python",
  "pygments_lexer": "ipython3",
  "version": 3,
  "kernelspec": {
   "name": "python3",
   "display_name": "Python 3"
  }
 },
 "cells": [
  {
   "cell_type": "markdown",
   "metadata": {},
   "source": [
    "# f-strings格式化\n",
    "链接: [Python的f-strings格式化](https://blog.csdn.net/qq_29027865/article/details/84850683)"
   ]
  },
  {
   "cell_type": "markdown",
   "metadata": {},
   "source": [
    "- 基本用法"
   ]
  },
  {
   "cell_type": "code",
   "execution_count": 1,
   "metadata": {},
   "outputs": [
    {
     "output_type": "execute_result",
     "data": {
      "text/plain": "\"My name's Tom, I'm 18 years old.\""
     },
     "metadata": {},
     "execution_count": 1
    }
   ],
   "source": [
    "name = \"Tom\"\n",
    "age = 18\n",
    "f\"My name's {name}, I'm {age} years old.\""
   ]
  },
  {
   "cell_type": "markdown",
   "metadata": {},
   "source": [
    "- 数学运算"
   ]
  },
  {
   "cell_type": "code",
   "execution_count": 2,
   "metadata": {},
   "outputs": [
    {
     "output_type": "execute_result",
     "data": {
      "text/plain": "'grow up, now is 19.'"
     },
     "metadata": {},
     "execution_count": 2
    }
   ],
   "source": [
    "F\"grow up, now is {age + 1}.\""
   ]
  },
  {
   "cell_type": "markdown",
   "metadata": {},
   "source": [
    "- 对象操作"
   ]
  },
  {
   "cell_type": "code",
   "execution_count": 8,
   "metadata": {},
   "outputs": [
    {
     "output_type": "stream",
     "name": "stdout",
     "text": "My name is Tom, I'am 18 years old.\nLength is 12.\nFor number 1-9 is: [1, 2, 3, 4, 5, 6, 7, 8, 9]\n"
    }
   ],
   "source": [
    "obj1 = {\"name\": \"Tom\", \"age\": 18}\n",
    "print(f\"My name is {obj1['name']}, I'am {obj1['age']} years old.\")\n",
    "s = r\"hello world.\"\n",
    "print(f\"Length is {len(s)}.\")\n",
    "\n",
    "l = range(1, 10)\n",
    "print(f\"For number 1-9 is: {[_ for _ in range(1, 10)]}\")"
   ]
  },
  {
   "cell_type": "markdown",
   "metadata": {},
   "source": [
    "- 数字操作"
   ]
  },
  {
   "cell_type": "code",
   "execution_count": 9,
   "metadata": {},
   "outputs": [
    {
     "output_type": "stream",
     "name": "stdout",
     "text": "PI is 3.14\n"
    }
   ],
   "source": [
    "pi = 3.1425826\n",
    "print(f\"PI is {pi:.2f}\")"
   ]
  },
  {
   "cell_type": "markdown",
   "metadata": {},
   "source": [
    "- 进制转换"
   ]
  },
  {
   "cell_type": "code",
   "execution_count": 11,
   "metadata": {},
   "outputs": [
    {
     "output_type": "stream",
     "name": "stdout",
     "text": "int: 31, hex:  1f, oct:  37, b:  11111\n"
    }
   ],
   "source": [
    "# \n",
    "print(f\"int: 31, hex: {31: x}, oct: {31: o}, binary: {31: b}\")"
   ]
  }
 ]
}