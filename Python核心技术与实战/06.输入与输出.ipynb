{
 "nbformat": 4,
 "nbformat_minor": 2,
 "metadata": {
  "language_info": {
   "name": "python",
   "codemirror_mode": {
    "name": "ipython",
    "version": 3
   },
   "version": "3.7.0-final"
  },
  "orig_nbformat": 2,
  "file_extension": ".py",
  "mimetype": "text/x-python",
  "name": "python",
  "npconvert_exporter": "python",
  "pygments_lexer": "ipython3",
  "version": 3,
  "kernelspec": {
   "name": "python3",
   "display_name": "Python 3"
  }
 },
 "cells": [
  {
   "cell_type": "markdown",
   "metadata": {},
   "source": [
    "# 输入与输出\n",
    "链接：[06 | Python “黑箱”：输入与输出](https://time.geekbang.org/column/article/96570)"
   ]
  },
  {
   "cell_type": "code",
   "execution_count": 1,
   "metadata": {},
   "outputs": [
    {
     "output_type": "stream",
     "name": "stdout",
     "text": "Welcom Mrs. Jack Ma\n"
    }
   ],
   "source": [
    "name = input(\"Your name:\")\n",
    "gender = input(\"Are you a male(y/n):\")\n",
    "\n",
    "welcome_str = \"Welcom {prefix} {name}\"\n",
    "welcome_dict = {\n",
    "    \"prefix\": \"Mr. \" if gender == \"Y\" else \"Mrs.\",\n",
    "    \"name\": name\n",
    "}\n",
    "\n",
    "print(welcome_str.format(**welcome_dict))"
   ]
  },
  {
   "cell_type": "markdown",
   "metadata": {},
   "source": [
    "- `input`输入的永远是字符串"
   ]
  },
  {
   "cell_type": "code",
   "execution_count": 3,
   "metadata": {},
   "outputs": [
    {
     "output_type": "stream",
     "name": "stdout",
     "text": "Add: 12\nType a is: <class 'str'>, type b is <class 'str'>\nNumber add: 3\nFloat add: 3.0\n"
    }
   ],
   "source": [
    "a = input(\"input 1:\")\n",
    "b = input(\"input 2:\")\n",
    "\n",
    "print(f\"Add: {a + b}\")\n",
    "print(f\"Type a is: {type(a)}, type b is {type(b)}\")\n",
    "print(f\"Number add: {int(a) + int(b)}\")\n",
    "print(f\"Float add: {float(a) + float(b)}\")"
   ]
  },
  {
   "cell_type": "markdown",
   "metadata": {},
   "source": [
    "- 文件输入输出"
   ]
  },
  {
   "cell_type": "code",
   "execution_count": 17,
   "metadata": {},
   "outputs": [],
   "source": [
    "import re\n",
    "\n",
    "def parse(text):\n",
    "    \"\"\"\n",
    "    解析文件内容，统计词频\n",
    "    \"\"\"\n",
    "    # 正则表达式去掉标点符号和换行符\n",
    "    text = re.sub(r\"[^\\w ]\", ' ', text)\n",
    "    # 小写\n",
    "    text = text.lower()\n",
    "    # 单词表\n",
    "    word_list = text.split(\" \")\n",
    "    # 去掉空白单词\n",
    "    word_list = filter(None, word_list)\n",
    "    # 统计词频\n",
    "    word_cnt = {}\n",
    "    for word in word_list:\n",
    "        if word not in word_cnt:\n",
    "            word_cnt[word] = 0\n",
    "        word_cnt[word] += 1\n",
    "    # 按词频排序\n",
    "    sorted_word_cnt = sorted(word_cnt.items(), key=lambda kv: kv[1], reverse=True)\n",
    "    return sorted_word_cnt\n",
    "\n",
    "with open('./text/paragraph.txt', 'r') as fin:\n",
    "    text = fin.read()\n",
    "word_and_freq = parse(text)\n",
    "with open('./text/paragraph_out.txt', 'w') as fout:\n",
    "    for word, freq in word_and_freq:\n",
    "        fout.write(f\"{word} ...... {freq}\\n\")"
   ]
  },
  {
   "cell_type": "markdown",
   "metadata": {},
   "source": [
    "- JSON序列化与实战"
   ]
  },
  {
   "cell_type": "code",
   "execution_count": 21,
   "metadata": {},
   "outputs": [
    {
     "output_type": "stream",
     "name": "stdout",
     "text": "Type is <class 'str'> ...... {\"name\": \"Jack Ma\", \"age\": 87, \"salary\": 1999.98}\nType is <class 'dict'> ...... {'name': 'Jack Ma', 'age': 87, 'salary': 1999.98}\n"
    }
   ],
   "source": [
    "params = {\n",
    "    \"name\": \"Jack Ma\",\n",
    "    \"age\": 87,\n",
    "    \"salary\": 1999.98\n",
    "}\n",
    "\n",
    "import json\n",
    "\n",
    "params_str = json.dumps(params)\n",
    "print(f\"Type is {type(params_str)} ...... {params_str}\")\n",
    "\n",
    "params_json = json.loads(params_str)\n",
    "print(f\"Type is {type(params_json)} ...... {params_json}\")"
   ]
  },
  {
   "cell_type": "code",
   "execution_count": null,
   "metadata": {},
   "outputs": [],
   "source": []
  }
 ]
}