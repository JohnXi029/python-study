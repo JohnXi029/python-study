{
 "nbformat": 4,
 "nbformat_minor": 2,
 "metadata": {
  "language_info": {
   "name": "python",
   "codemirror_mode": {
    "name": "ipython",
    "version": 3
   },
   "version": "3.7.0-final"
  },
  "orig_nbformat": 2,
  "file_extension": ".py",
  "mimetype": "text/x-python",
  "name": "python",
  "npconvert_exporter": "python",
  "pygments_lexer": "ipython3",
  "version": 3,
  "kernelspec": {
   "name": "python37664bitopskitpythoncondaf67a8cf2e0b44e40b8b3667b45188baa",
   "display_name": "Python 3.7.6 64-bit ('ops-kit-python': conda)"
  }
 },
 "cells": [
  {
   "cell_type": "markdown",
   "metadata": {},
   "source": [
    "# 异常处理\n",
    "链接：[08 | 异常处理：如何提高程序的稳定性？](https://time.geekbang.org/column/article/97462)"
   ]
  },
  {
   "cell_type": "markdown",
   "metadata": {},
   "source": [
    "- 定义和抛出异常"
   ]
  },
  {
   "cell_type": "code",
   "execution_count": 7,
   "metadata": {},
   "outputs": [
    {
     "output_type": "stream",
     "name": "stdout",
     "text": "随便弄个啥\n没有错误！\n反正是执行完了\n"
    }
   ],
   "source": [
    "class MyException(Exception):\n",
    "    def __init__(self, value):\n",
    "        self.value = value\n",
    "    def __str__(self):\n",
    "        return f\"自己定义的异常: {self.value}\"\n",
    "\n",
    "try:\n",
    "    print(\"随便弄个啥\")\n",
    "    # raise MyException(\"啊？\")\n",
    "except MyException as err:\n",
    "    print(err)\n",
    "else:\n",
    "    print(\"没有错误！\")\n",
    "finally:\n",
    "    print(\"反正是执行完了\")"
   ]
  },
  {
   "cell_type": "markdown",
   "metadata": {},
   "source": [
    "- `try - else` 代码块\n",
    "```\n",
    "try:\n",
    "    pass\n",
    "except Exception as err:\n",
    "    pass\n",
    "else:\n",
    "    # 正确执行\n",
    "    pass\n",
    "finally:\n",
    "    pass\n",
    "```"
   ]
  }
 ]
}