{
 "nbformat": 4,
 "nbformat_minor": 2,
 "metadata": {
  "language_info": {
   "name": "python",
   "codemirror_mode": {
    "name": "ipython",
    "version": 3
   },
   "version": "3.7.0-final"
  },
  "orig_nbformat": 2,
  "file_extension": ".py",
  "mimetype": "text/x-python",
  "name": "python",
  "npconvert_exporter": "python",
  "pygments_lexer": "ipython3",
  "version": 3,
  "kernelspec": {
   "name": "python3",
   "display_name": "Python 3"
  }
 },
 "cells": [
  {
   "cell_type": "markdown",
   "metadata": {},
   "source": [
    "# 匿名函数(lambda)\n",
    "链接：[10 | 简约不简单的匿名函数](https://time.geekbang.org/column/article/98411)"
   ]
  },
  {
   "cell_type": "markdown",
   "metadata": {},
   "source": [
    "- `lambda argument1, argument2,... argumentN : expression`"
   ]
  },
  {
   "cell_type": "code",
   "execution_count": 27,
   "metadata": {},
   "outputs": [
    {
     "output_type": "stream",
     "name": "stdout",
     "text": "2 ^ 2 = 4\n2 * 3 = 6\n"
    }
   ],
   "source": [
    "square = lambda x: x * x\n",
    "multiply = lambda x, y: x * y\n",
    "print(f\"2 ^ 2 = {square(2)}\")\n",
    "print(f\"2 * 3 = {multiply(2, 3)}\")"
   ]
  },
  {
   "cell_type": "markdown",
   "metadata": {},
   "source": [
    "- lambda 是一个表达式（expression），并不是一个语句（statement）。\n",
    "- lambda 的主体是只有一行的简单表达式，并不能扩展成一个多行的代码块。"
   ]
  },
  {
   "cell_type": "code",
   "execution_count": 28,
   "metadata": {},
   "outputs": [
    {
     "output_type": "stream",
     "name": "stdout",
     "text": "[0, 1, 4, 9, 16, 25, 36, 49, 64, 81]\n工资从小到大排列： [('Tom', 348.21), ('Lucy', 9998.1), ('JackMa', 746548.89)]\n"
    }
   ],
   "source": [
    "my_list = [(lambda x: x* x)(x) for x in range(10)]\n",
    "print(my_list)\n",
    "\n",
    "my_list = [\n",
    "    (\"Tom\", 348.21),\n",
    "    (\"JackMa\", 746548.89),\n",
    "    (\"Lucy\", 9998.1)\n",
    "]\n",
    "print(\"工资从小到大排列：\", sorted(my_list, key=lambda x:x[1]))\n",
    ""
   ]
  },
  {
   "cell_type": "code",
   "execution_count": 29,
   "metadata": {},
   "outputs": [
    {
     "output_type": "stream",
     "name": "stdout",
     "text": "[1, 4, 9, 16, 25]\n"
    }
   ],
   "source": [
    "squared = list(map(lambda x: x * x, [1, 2, 3, 4, 5]))\n",
    "print(squared)"
   ]
  },
  {
   "cell_type": "code",
   "execution_count": 30,
   "metadata": {},
   "outputs": [],
   "source": [
    "# from tkinter import Button, mainloop\n",
    "# button = Button(\n",
    "#     text='This is a button',\n",
    "#     command=lambda: print('being pressed')) # 点击时调用lambda函数\n",
    "# button.pack()\n",
    "# mainloop()"
   ]
  },
  {
   "cell_type": "markdown",
   "metadata": {},
   "source": [
    "- python中的函数式编程"
   ]
  },
  {
   "cell_type": "code",
   "execution_count": 31,
   "metadata": {},
   "outputs": [
    {
     "output_type": "stream",
     "name": "stdout",
     "text": "[2, 4, 6]\n[2, 4, 6]\n"
    }
   ],
   "source": [
    "def my_fun(l):\n",
    "    \"\"\"\n",
    "    这段代码就不是一个纯函数的形式，因为列表中元素的值被改变了，如果我多次调用 multiply_2() 这个函数，那么每次得到的结果都不一样。\n",
    "    \"\"\"\n",
    "    for i in range(len(l)):\n",
    "        l[i] *= 2\n",
    "    return l\n",
    "def my_fun2(l):\n",
    "    new_list = []\n",
    "    for x in l:\n",
    "        new_list.append(x * 2)\n",
    "    return new_list\n",
    "\n",
    "print(my_fun([1, 2, 3]))\n",
    "print(my_fun2([1, 2, 3]))"
   ]
  },
  {
   "cell_type": "markdown",
   "metadata": {},
   "source": [
    "- `map()`\n",
    "- `filter()`\n",
    "- `reduce()`已经被改到了`functools`包里面不再作为内置函数\n",
    "\n",
    "```python\n",
    "from functools import reduce\n",
    "```"
   ]
  },
  {
   "cell_type": "code",
   "execution_count": 32,
   "metadata": {},
   "outputs": [
    {
     "output_type": "stream",
     "name": "stdout",
     "text": "方法1耗时：9.610000000748187e-05\n方法2耗时：0.0005614000000093711\n方法2耗时：0.00045940000001110093\n"
    }
   ],
   "source": [
    "import time\n",
    "LOOP_COUNT = 1000\n",
    "start_time = time.perf_counter()\n",
    "map(lambda x: x * 2, range(LOOP_COUNT))\n",
    "end_time = time.perf_counter()\n",
    "print(f\"方法1耗时：{end_time - start_time}\")\n",
    "\n",
    "start_time = time.perf_counter()\n",
    "[lambda x: x * 2 for x in range(LOOP_COUNT)]\n",
    "end_time = time.perf_counter()\n",
    "print(f\"方法2耗时：{end_time - start_time}\")\n",
    "\n",
    "start_time = time.perf_counter()\n",
    "l = []\n",
    "for x in range(LOOP_COUNT): l.append(x * 2)\n",
    "end_time = time.perf_counter()\n",
    "print(f\"方法2耗时：{end_time - start_time}\")"
   ]
  },
  {
   "cell_type": "code",
   "execution_count": 33,
   "metadata": {},
   "outputs": [
    {
     "output_type": "stream",
     "name": "stdout",
     "text": "[0, 2, 4, 6, 8]\n"
    }
   ],
   "source": [
    "\"\"\"\n",
    "filter: 找出偶数\n",
    "\"\"\"\n",
    "l = filter(lambda x: x % 2 == 0, range(10))\n",
    "print(list(l))"
   ]
  },
  {
   "cell_type": "code",
   "execution_count": 34,
   "metadata": {},
   "outputs": [
    {
     "output_type": "stream",
     "name": "stdout",
     "text": "24\n"
    }
   ],
   "source": [
    "\"\"\"\n",
    "reduce: 每个元素及上一次调用的结果 \n",
    "\"\"\"\n",
    "from functools import reduce\n",
    "l = reduce(lambda x, y: x * y, range(1, 5))\n",
    "print(l)"
   ]
  },
  {
   "cell_type": "code",
   "execution_count": 42,
   "metadata": {},
   "outputs": [
    {
     "output_type": "stream",
     "name": "stdout",
     "text": "[('Jack', 120), ('Tom', 10), ('Lucy', 5)]\n"
    }
   ],
   "source": [
    "my_dict = {\n",
    "    \"Tom\": 10,\n",
    "    \"Jack\": 120,\n",
    "    \"Lucy\":5\n",
    "}\n",
    "\n",
    "sorted_dict = sorted(my_dict.items(), key=lambda x: x[1], reverse=True)\n",
    "print(sorted_dict)"
   ]
  },
  {
   "cell_type": "code",
   "execution_count": null,
   "metadata": {},
   "outputs": [],
   "source": []
  }
 ]
}