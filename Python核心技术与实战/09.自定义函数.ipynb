{
 "nbformat": 4,
 "nbformat_minor": 2,
 "metadata": {
  "language_info": {
   "name": "python",
   "codemirror_mode": {
    "name": "ipython",
    "version": 3
   },
   "version": "3.7.0-final"
  },
  "orig_nbformat": 2,
  "file_extension": ".py",
  "mimetype": "text/x-python",
  "name": "python",
  "npconvert_exporter": "python",
  "pygments_lexer": "ipython3",
  "version": 3,
  "kernelspec": {
   "name": "python3",
   "display_name": "Python 3"
  }
 },
 "cells": [
  {
   "cell_type": "markdown",
   "metadata": {},
   "source": [
    "# 自定义函数\n",
    "链接：[09 | 不可或缺的自定义函数](https://time.geekbang.org/column/article/97764)"
   ]
  },
  {
   "cell_type": "code",
   "execution_count": 6,
   "metadata": {},
   "outputs": [
    {
     "output_type": "stream",
     "name": "stdout",
     "text": "The largest element is: 8\n"
    }
   ],
   "source": [
    "def find_largest_element(l):\n",
    "    if not isinstance(l, list):\n",
    "        raise Exception(f\"{l} 不是一个list!\")\n",
    "    if len(l) == 0:\n",
    "        print(\"empty list\")\n",
    "        return\n",
    "    return sorted(l, reverse=True)[0]\n",
    "\n",
    "l = [1, 6, 8, 3]\n",
    "print(f\"The largest element is: {find_largest_element(l)}\")"
   ]
  },
  {
   "cell_type": "markdown",
   "metadata": {},
   "source": [
    "- `def`是可执行语句，函数在调用前都不存在"
   ]
  },
  {
   "cell_type": "code",
   "execution_count": 8,
   "metadata": {},
   "outputs": [
    {
     "output_type": "stream",
     "name": "stdout",
     "text": "Your param is: abc\nYour param is: abc, in funciton 2.\n"
    }
   ],
   "source": [
    "# 在函数声明之前调用，会报错\n",
    "# my_fun('abc')\n",
    "def my_fun(val):\n",
    "    print(f\"Your param is: {val}\")\n",
    "    # 但是，在函数内部调用其他函数，哪怕函数2在函数1之后，也是可以的\n",
    "    my_fun2(val)\n",
    "def my_fun2(val):\n",
    "    print(f\"Your param is: {val}, in funciton 2.\")\n",
    "\n",
    "my_fun(\"abc\")"
   ]
  },
  {
   "cell_type": "markdown",
   "metadata": {},
   "source": [
    "- python中的命名参数，参数可以指定默认值"
   ]
  },
  {
   "cell_type": "code",
   "execution_count": 30,
   "metadata": {},
   "outputs": [
    {
     "output_type": "stream",
     "name": "stdout",
     "text": "a, 1, not\n"
    }
   ],
   "source": [
    "def my_fun(*params, name = \"default\"):\n",
    "    print(*params, name, sep=\", \")\n",
    "\n",
    "my_fun(\"a\", 1, name=\"not\")"
   ]
  },
  {
   "cell_type": "markdown",
   "metadata": {},
   "source": [
    "- python中支持函数的嵌套\n",
    "    - 函数的访问权限\n",
    "    - 合理使用，可以提高运行效率"
   ]
  },
  {
   "cell_type": "code",
   "execution_count": 35,
   "metadata": {},
   "outputs": [
    {
     "output_type": "stream",
     "name": "stdout",
     "text": "I am function a, your input is: abc\nI'm function b, your input is: abc\n"
    }
   ],
   "source": [
    "def a(val):\n",
    "    print(f\"I am function a, your input is: {val}\")\n",
    "    def b(val):\n",
    "        print(f\"I'm function b, your input is: {val}\")\n",
    "    b(val)\n",
    "a(\"abc\")\n",
    "\n",
    "# 嵌套在内部的函数无法在外部使用，会报错\n",
    "# b(val)"
   ]
  },
  {
   "cell_type": "markdown",
   "metadata": {},
   "source": [
    "- 一个函数嵌套可以提升效率的例子  \n",
    "    `factorial`函数要进行必要的判断，把递归操作放在嵌套的函数中，避免了每次递归都需要判断，提升效率"
   ]
  },
  {
   "cell_type": "code",
   "execution_count": 14,
   "metadata": {},
   "outputs": [
    {
     "output_type": "stream",
     "name": "stdout",
     "text": "5! = 120\n"
    }
   ],
   "source": [
    "def factorial(i):\n",
    "    if not isinstance(i, int):\n",
    "        raise Exception(f\"必须是一个整数, 你的输入：{i}\")\n",
    "    if i <= 0:\n",
    "        raise Exception(f\"必须大于0， 你的输入: {i}\")\n",
    "    def do_factorial(i):\n",
    "        if i == 1:\n",
    "            return 1\n",
    "        return i * do_factorial(i - 1)\n",
    "    return do_factorial(i)\n",
    "\n",
    "i = 5\n",
    "try:\n",
    "    print(f\"{i}! = {factorial(i)}\")\n",
    "except Exception as err:\n",
    "    print(f\"Error: {err}\")"
   ]
  },
  {
   "cell_type": "markdown",
   "metadata": {},
   "source": [
    "- 函数中变量的作用域  \n",
    "    - **不能再函数内部随意改变全局变量的值！**  \n",
    "    - 如果一定要这样做，要加`global`关键字\n",
    "    - 同理，如果是在嵌套函数内部，则需要使用`nonlocal`关键字"
   ]
  },
  {
   "cell_type": "code",
   "execution_count": 16,
   "metadata": {},
   "outputs": [
    {
     "output_type": "stream",
     "name": "stdout",
     "text": "run my funciton 2 ...\n"
    }
   ],
   "source": [
    "MY_CONSTANT = 1\n",
    "\n",
    "def my_fun(val):\n",
    "    print(\"run my function ...\")\n",
    "    MY_CONSTANT += 1\n",
    "def my_fun2(val):\n",
    "    print(\"run my funciton 2 ...\")\n",
    "    # 使用global关键字，才能去改变全局变量\n",
    "    global MY_CONSTANT\n",
    "    MY_CONSTANT += 1\n",
    "\n",
    "# 会报错\n",
    "# my_fun(1)\n",
    "\n",
    "my_fun2(2)"
   ]
  },
  {
   "cell_type": "code",
   "execution_count": 21,
   "metadata": {},
   "outputs": [
    {
     "output_type": "stream",
     "name": "stdout",
     "text": "run my function\nrun my sub functin\n"
    }
   ],
   "source": [
    "def my_fun(val):\n",
    "    print(\"run my function\")\n",
    "    var = 1\n",
    "    def my_sub_fun(val):\n",
    "        print(\"run my sub functin\")\n",
    "        # 在嵌套函数内使用nonlocal关键字\n",
    "        nonlocal var\n",
    "        var += 1\n",
    "    my_sub_fun(val)\n",
    "my_fun(1)"
   ]
  },
  {
   "cell_type": "markdown",
   "metadata": {},
   "source": [
    "- 闭包（closure）"
   ]
  },
  {
   "cell_type": "code",
   "execution_count": 23,
   "metadata": {},
   "outputs": [
    {
     "output_type": "stream",
     "name": "stdout",
     "text": "2 的平方是：4\n2 的立方是：6\n"
    }
   ],
   "source": [
    "def nth_power(exponent):\n",
    "    def exponent_of(base):\n",
    "        return base * exponent\n",
    "    # 返回的是一个函数\n",
    "    return exponent_of\n",
    "\n",
    "# 定义平方函数\n",
    "square = nth_power(2)\n",
    "# 定义立方函数\n",
    "cube = nth_power(3)\n",
    "\n",
    "print(f\"{2} 的平方是：{square(2)}\")\n",
    "print(f\"{2} 的立方是：{cube(2)}\")"
   ]
  },
  {
   "cell_type": "markdown",
   "metadata": {},
   "source": [
    "关于Python的闭包：[一步一步教你认识Python闭包](https://zhuanlan.zhihu.com/p/26934085)"
   ]
  }
 ]
}