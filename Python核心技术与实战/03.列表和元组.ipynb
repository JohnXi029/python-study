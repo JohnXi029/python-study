{
 "cells": [
  {
   "cell_type": "markdown",
   "metadata": {},
   "source": [
    "# 列表和元组\n",
    "[03 | 列表和元组，到底用哪一个？](https://time.geekbang.org/column/article/94972)"
   ]
  },
  {
   "cell_type": "markdown",
   "metadata": {},
   "source": [
    "- 数据类型可以不一致\n",
    "- 列表是静态的，元组是动态的(长度固定，元组不可增减)"
   ]
  },
  {
   "cell_type": "code",
   "execution_count": 1,
   "metadata": {},
   "outputs": [
    {
     "name": "stdout",
     "output_type": "stream",
     "text": [
      "['列表', 12, []]\n",
      "('元组', 32, [], ())\n"
     ]
    }
   ],
   "source": [
    "li = [r\"列表\", 12, []]\n",
    "tup = (r\"元组\", 32, [], ())\n",
    "\n",
    "print(li)\n",
    "print(tup)"
   ]
  },
  {
   "cell_type": "markdown",
   "metadata": {},
   "source": [
    "- 都支持负数索引"
   ]
  },
  {
   "cell_type": "code",
   "execution_count": 2,
   "metadata": {},
   "outputs": [
    {
     "name": "stdout",
     "output_type": "stream",
     "text": [
      "12\n",
      "32\n"
     ]
    }
   ],
   "source": [
    "print(li[-2])\n",
    "print(tup[-3])"
   ]
  },
  {
   "cell_type": "markdown",
   "metadata": {},
   "source": [
    "- 切片操作：**左闭右开区间**"
   ]
  },
  {
   "cell_type": "code",
   "execution_count": 3,
   "metadata": {},
   "outputs": [
    {
     "name": "stdout",
     "output_type": "stream",
     "text": [
      "[2, 3]\n",
      "[1, 2, 3, 4]\n",
      "('c', 'd', 'e')\n",
      "('a', 'b', 'c', 'd')\n"
     ]
    }
   ],
   "source": [
    "li = [1, 2, 3, 4, 5]\n",
    "tup = (\"a\", \"b\", \"c\", \"d\", \"e\")\n",
    "\n",
    "print(li[1:-2])\n",
    "print(li[:-1])\n",
    "\n",
    "print(tup[2:])\n",
    "print(tup[0:-1])"
   ]
  },
  {
   "cell_type": "markdown",
   "metadata": {},
   "source": [
    "- 列表和元组可以随意嵌套\n",
    "- 二者可以通过 list() 和 tuple() 函数相互转换"
   ]
  },
  {
   "cell_type": "code",
   "execution_count": 4,
   "metadata": {},
   "outputs": [
    {
     "name": "stdout",
     "output_type": "stream",
     "text": [
      "(1, 2, 3)\n",
      "[1, 2, 3]\n"
     ]
    }
   ],
   "source": [
    "print(tuple([1, 2, 3]))\n",
    "print(list((1, 2, 3)))"
   ]
  },
  {
   "cell_type": "markdown",
   "metadata": {},
   "source": [
    "- 一些常用的内置函数"
   ]
  },
  {
   "cell_type": "code",
   "execution_count": 5,
   "metadata": {},
   "outputs": [
    {
     "name": "stdout",
     "output_type": "stream",
     "text": [
      "有 2 个元素2\n",
      "元素4的索引是： 3\n",
      "列表元素倒序： [2, 5, 4, 3, 2, 1]\n",
      "排序： [1, 2, 2, 3, 4, 5]\n",
      "有 2 个元素2\n",
      "元素4的索引是： 3\n",
      "(2, 5, 4, 3, 2, 1)\n",
      "[1, 2, 2, 3, 4, 5]\n"
     ]
    }
   ],
   "source": [
    "li = [1, 2, 3, 4, 5, 2]\n",
    "print(r\"有\", li.count(2), r\"个元素2\")\n",
    "print(r\"元素4的索引是：\", li.index(4))\n",
    "li.reverse()\n",
    "print(r\"列表元素倒序：\", li)\n",
    "li.sort()\n",
    "print(r\"排序：\", li)\n",
    "\n",
    "tup = (1, 2, 3, 4, 5, 2)\n",
    "print(r\"有\", tup.count(2), r\"个元素2\")\n",
    "print(r\"元素4的索引是：\", tup.index(4))\n",
    "print(tuple(reversed(tup)))\n",
    "print(sorted(tup))"
   ]
  },
  {
   "cell_type": "markdown",
   "metadata": {},
   "source": [
    "## 列表和元组对比\n",
    "1. 如果存储的数据和数量不变，比如你有一个函数，需要返回的是一个地点的经纬度，然后直接传给前端渲染，那么肯定选用元组更合适。\n",
    "2. 如果存储的数据或数量是可变的，比如社交平台上的一个日志功能，是统计一个用户在一周之内看了哪些用户的帖子，那么则用列表更合适。"
   ]
  },
  {
   "cell_type": "code",
   "execution_count": 6,
   "metadata": {},
   "outputs": [
    {
     "name": "stdout",
     "output_type": "stream",
     "text": [
      "64\n",
      "48\n"
     ]
    }
   ],
   "source": [
    "li = [1, 2, 3]\n",
    "print(li.__sizeof__())\n",
    "tup = (1, 2, 3)\n",
    "print(tup.__sizeof__())"
   ]
  }
 ],
 "metadata": {
  "kernelspec": {
   "display_name": "Python 3",
   "language": "python",
   "name": "python3"
  },
  "language_info": {
   "codemirror_mode": {
    "name": "ipython",
    "version": 3
   },
   "file_extension": ".py",
   "mimetype": "text/x-python",
   "name": "python",
   "nbconvert_exporter": "python",
   "pygments_lexer": "ipython3",
   "version": "3.7.0"
  }
 },
 "nbformat": 4,
 "nbformat_minor": 2
}
