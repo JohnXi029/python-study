{
 "cells": [
  {
   "cell_type": "markdown",
   "metadata": {},
   "source": [
    "# 字典、集合，你真的了解吗？\n",
    "[04 | 字典、集合，你真的了解吗？](https://time.geekbang.org/column/article/95521)"
   ]
  },
  {
   "cell_type": "markdown",
   "metadata": {},
   "source": [
    "- 字典和集合的创建  \n",
    "    **四种创建字段的方式**"
   ]
  },
  {
   "cell_type": "code",
   "execution_count": 5,
   "metadata": {},
   "outputs": [
    {
     "name": "stdout",
     "output_type": "stream",
     "text": [
      "True\n"
     ]
    }
   ],
   "source": [
    "d1 = {\"name\": \"张三\", \"age\": 18, \"gender\": \"male\"}\n",
    "d2 = dict({\"name\": \"张三\", \"age\": 18, \"gender\": \"male\"})\n",
    "d3 = dict([(\"name\", \"张三\"), (\"age\", 18), (\"gender\", \"male\")])\n",
    "d4 = dict(name=\"张三\", age=18, gender=\"male\")\n",
    "\n",
    "print(d1 == d2 == d3 == d4)"
   ]
  },
  {
   "cell_type": "code",
   "execution_count": null,
   "metadata": {},
   "outputs": [],
   "source": []
  }
 ],
 "metadata": {
  "kernelspec": {
   "display_name": "Python 3",
   "language": "python",
   "name": "python3"
  },
  "language_info": {
   "codemirror_mode": {
    "name": "ipython",
    "version": 3
   },
   "file_extension": ".py",
   "mimetype": "text/x-python",
   "name": "python",
   "nbconvert_exporter": "python",
   "pygments_lexer": "ipython3",
   "version": "3.7.0"
  }
 },
 "nbformat": 4,
 "nbformat_minor": 2
}
