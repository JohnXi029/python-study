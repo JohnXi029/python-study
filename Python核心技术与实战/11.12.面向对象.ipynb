{
 "nbformat": 4,
 "nbformat_minor": 2,
 "metadata": {
  "language_info": {
   "name": "python",
   "codemirror_mode": {
    "name": "ipython",
    "version": 3
   },
   "version": "3.7.0-final"
  },
  "orig_nbformat": 2,
  "file_extension": ".py",
  "mimetype": "text/x-python",
  "name": "python",
  "npconvert_exporter": "python",
  "pygments_lexer": "ipython3",
  "version": 3,
  "kernelspec": {
   "name": "python3",
   "display_name": "Python 3"
  }
 },
 "cells": [
  {
   "cell_type": "markdown",
   "metadata": {},
   "source": [
    "# 面向对象\n",
    "链接：  \n",
    "[11 | 面向对象（上）：从生活中的类比说起](https://time.geekbang.org/column/article/98658)  \n",
    "[12 | 面向对象（下）：如何实现一个搜索引擎？](https://time.geekbang.org/column/article/98998)"
   ]
  },
  {
   "cell_type": "code",
   "execution_count": 9,
   "metadata": {},
   "outputs": [
    {
     "output_type": "stream",
     "name": "stdout",
     "text": "一本书\n\nI have a dream that\n"
    }
   ],
   "source": [
    "class Book:\n",
    "    def __init__(self, title, author, context):\n",
    "        self.title = title\n",
    "        self.author = author\n",
    "        # 以\"__\"开头的是私有属性\n",
    "        self.__context = context\n",
    "    def get_context_length(self):\n",
    "        return len(self.__context)\n",
    "    def intercept_context(self, length):\n",
    "        return self.__context[:length]\n",
    "\n",
    "with open('./text/paragraph.txt', 'r') as text:\n",
    "    context = text.read()\n",
    "\n",
    "book = Book(\"一本书\", \"鬼谷子\", context)\n",
    "print(book.title)\n",
    "# AttributeError: 'Book' object has no attribute '__context'\n",
    "# print(book.__context)\n",
    "print(book.intercept_context(20))"
   ]
  },
  {
   "cell_type": "markdown",
   "metadata": {},
   "source": [
    "- 类函数（java静态方法）、成员函数、静态函数（不带self）  \n",
    "    - 前两者产生的影响是动态的，能够访问或者修改对象的属性；而静态函数则与类没有什么关联，最明显的特征便是，静态函数的第一个参数没有任何特殊性\n",
    "    - 类函数的第一个参数一般是`cls`，最常见的用途是构造不同的对象"
   ]
  },
  {
   "cell_type": "code",
   "execution_count": 16,
   "metadata": {},
   "outputs": [
    {
     "output_type": "stream",
     "name": "stdout",
     "text": "第一本书的名字是《人类简史》\n欢迎词：Hello welcome read: 花冠病毒\n访问静态变量：Hello welcome read: {}\n"
    },
    {
     "output_type": "execute_result",
     "data": {
      "text/plain": "'Hello welcome read: adsf'"
     },
     "metadata": {},
     "execution_count": 16
    }
   ],
   "source": [
    "class Book:\n",
    "\n",
    "    WELCOME_TEMPLATE = \"Hello welcome read: {}\"\n",
    "\n",
    "    def __init__(self, title, author, context):\n",
    "        self.title = title\n",
    "        self.author = author\n",
    "        self.__context = context\n",
    "\n",
    "    @classmethod\n",
    "    def create_empty_book(cls, title, author, context):\n",
    "        \"\"\"\n",
    "        类函数\n",
    "        \"\"\"\n",
    "        return cls(title=title, author=author, context=context)\n",
    "    \n",
    "    def get_book_title(self):\n",
    "        \"\"\"\n",
    "        成员函数\n",
    "        \"\"\"\n",
    "        return self.title\n",
    "\n",
    "    @staticmethod\n",
    "    def get_welcome(title):\n",
    "        \"\"\"\n",
    "        静态函数\n",
    "        \"\"\"\n",
    "        return Book.WELCOME_TEMPLATE.format(title)\n",
    "\n",
    "with open('./text/paragraph.txt', 'r') as text:\n",
    "    context = text.read()\n",
    "\n",
    "# 使用类函数\n",
    "book1 = Book.create_empty_book(\"人类简史\", \"尤瓦尔赫拉利\", context)\n",
    "# 使用成员函数\n",
    "print(f\"第一本书的名字是《{book1.get_book_title()}》\")\n",
    "# 使用静态函数\n",
    "print(f\"欢迎词：{book1.get_welcome('花冠病毒')}\")\n",
    "print(f\"访问静态变量：{Book.WELCOME_TEMPLATE}\")"
   ]
  },
  {
   "cell_type": "markdown",
   "metadata": {},
   "source": [
    "- 继承\n",
    "    - 父类的构造器必须在子类中显式的调用"
   ]
  },
  {
   "cell_type": "code",
   "execution_count": 3,
   "metadata": {},
   "outputs": [
    {
     "output_type": "stream",
     "name": "stdout",
     "text": "init in documnet.\ninit in parent class.\ninit in video.\ninit in parent class.\n书的名字： 未来简史\n书的长度： 1571\n磁带的名字：哈利波特\n磁带的长度：54\n"
    }
   ],
   "source": [
    "class Entity():\n",
    "    def __init__(self, object_type):\n",
    "        print(\"init in parent class.\")\n",
    "        self.__object_type = object_type\n",
    "    def get_context_length(self):\n",
    "        raise Exception(\"get_context_length is not implement.\")\n",
    "    def get_title(self):\n",
    "        return self.title\n",
    "        \n",
    "class Document(Entity):\n",
    "    def __init__(self, title, author, context):\n",
    "        print(\"init in documnet.\")\n",
    "        # 在子类中显式的调用父类构造器\n",
    "        Entity.__init__(self, \"Document\")\n",
    "        self.title = title\n",
    "        self.author = author\n",
    "        self.__context = context\n",
    "    def get_context_length(self):\n",
    "        \"\"\"\n",
    "        重写父类的方法\n",
    "        \"\"\"\n",
    "        return len(self.__context)\n",
    "\n",
    "class Video(Entity):\n",
    "    def __init__(self, title, author, video_length):\n",
    "        print(\"init in video.\")\n",
    "        # 在子类中显式的调用父类构造器\n",
    "        Entity.__init__(self, \"Video\")\n",
    "        self.title = title\n",
    "        self.author = author\n",
    "        self.__video_length = video_length\n",
    "    def get_context_length(self):\n",
    "        return self.__video_length\n",
    "\n",
    "with open('./text/paragraph.txt', 'r') as text: context = text.read()\n",
    "\n",
    "doc = Document(\"未来简史\", \"尤瓦尔赫拉利\", context)\n",
    "video = Video(\"哈利波特\", \"JK罗琳\", 54)\n",
    "\n",
    "print(f\"书的名字： {doc.get_title()}\")\n",
    "print(f\"书的长度： {doc.get_context_length()}\")\n",
    "print(f\"磁带的名字：{video.get_title()}\")\n",
    "print(f\"磁带的长度：{video.get_context_length()}\")"
   ]
  },
  {
   "cell_type": "markdown",
   "metadata": {},
   "source": [
    "- 抽象函数和抽象类"
   ]
  },
  {
   "cell_type": "code",
   "execution_count": 4,
   "metadata": {},
   "outputs": [
    {
     "output_type": "stream",
     "name": "stdout",
     "text": "I'm function 1\nI'm function 2\n"
    }
   ],
   "source": [
    "from abc import ABCMeta, abstractclassmethod\n",
    "\n",
    "class Entity(metaclass=ABCMeta):\n",
    "    @abstractclassmethod\n",
    "    def fun1(self):\n",
    "        pass\n",
    "    @abstractclassmethod\n",
    "    def fun2(self):\n",
    "        pass\n",
    "\n",
    "class Document(Entity):\n",
    "    def fun1(self):\n",
    "        print(\"I'm function 1\")\n",
    "    def fun2(self):\n",
    "        print(\"I'm function 2\")\n",
    "\n",
    "doc = Document()\n",
    "doc.fun1()\n",
    "doc.fun2()"
   ]
  },
  {
   "cell_type": "code",
   "execution_count": null,
   "metadata": {},
   "outputs": [],
   "source": []
  }
 ]
}