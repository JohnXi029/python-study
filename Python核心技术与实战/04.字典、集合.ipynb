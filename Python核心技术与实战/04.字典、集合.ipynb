{
 "cells": [
  {
   "cell_type": "markdown",
   "metadata": {},
   "source": [
    "# 字典、集合，你真的了解吗？\n",
    "[04 | 字典、集合，你真的了解吗？](https://time.geekbang.org/column/article/95521)"
   ]
  },
  {
   "cell_type": "markdown",
   "metadata": {},
   "source": [
    "- 字典和集合的创建  \n",
    "    **四种创建字段的方式**  \n",
    "    **两种创建集合的方式**"
   ]
  },
  {
   "cell_type": "code",
   "execution_count": 5,
   "metadata": {},
   "outputs": [
    {
     "output_type": "stream",
     "name": "stdout",
     "text": "True\nTrue\n"
    }
   ],
   "source": [
    "d1 = {\"name\": \"张三\", \"age\": 18, \"gender\": \"male\"}\n",
    "d2 = dict({\"name\": \"张三\", \"age\": 18, \"gender\": \"male\"})\n",
    "d3 = dict([(\"name\", \"张三\"), (\"age\", 18), (\"gender\", \"male\")])\n",
    "d4 = dict(name=\"张三\", age=18, gender=\"male\")\n",
    "print(d1 == d2 == d3 == d4)\n",
    "\n",
    "s1 = {1, 2, 3}\n",
    "s2 = set([1, 2, 3])\n",
    "print(s1 == s2)"
   ]
  },
  {
   "cell_type": "markdown",
   "metadata": {},
   "source": [
    "- 访问字典"
   ]
  },
  {
   "cell_type": "code",
   "execution_count": 9,
   "metadata": {},
   "outputs": [
    {
     "output_type": "stream",
     "name": "stdout",
     "text": "Tom\nTom\nnot found!\n"
    }
   ],
   "source": [
    "d1 = dict(name=\"Tom\", age=19)\n",
    "print(d1[\"name\"])\n",
    "# 不存在的键，会报错\n",
    "# print(d1[\"other\"])\n",
    "\n",
    "# 使用get方法访问字典\n",
    "print(d1.get(\"name\"))\n",
    "print(d1.get(\"other\", \"not found!\"))"
   ]
  },
  {
   "cell_type": "markdown",
   "metadata": {},
   "source": [
    "- 访问集合和字典"
   ]
  },
  {
   "cell_type": "code",
   "execution_count": 16,
   "metadata": {},
   "outputs": [
    {
     "output_type": "stream",
     "name": "stdout",
     "text": "判断元素1是否属于集合： True\n遍历集合：\n1\n2\n3\n字段中是否包含name这个键： True\n遍历字典：\nname Tom\nage 19\n"
    }
   ],
   "source": [
    "s1 = {1, 2, 3}\n",
    "print(r\"判断元素1是否属于集合：\", 1 in s1)\n",
    "print(r\"遍历集合：\")\n",
    "for rec in s1:\n",
    "    print(rec)\n",
    "\n",
    "d1 = dict(name=\"Tom\", age=19)\n",
    "print(r\"字段中是否包含name这个键：\", \"name\" in d1)\n",
    "print(r\"遍历字典：\")\n",
    "for (key, value) in d1.items():\n",
    "    print(key, value)"
   ]
  },
  {
   "cell_type": "markdown",
   "metadata": {},
   "source": [
    "- 集合和字典的增删操作"
   ]
  },
  {
   "cell_type": "code",
   "execution_count": 20,
   "metadata": {},
   "outputs": [
    {
     "output_type": "stream",
     "name": "stdout",
     "text": "{'name': 'Jemmy', 'address': 'USA'}\n{1, 3, 4}\n"
    }
   ],
   "source": [
    "d1 = dict(name=\"Tom\", age=28)\n",
    "d1[\"name\"] = \"Jemmy\"    # 改\n",
    "d1[\"address\"] = \"USA\"   # 增\n",
    "d1.pop(\"age\")           # 删\n",
    "print(d1)\n",
    "\n",
    "s1 = {1, 2, 3}\n",
    "s1.add(4)       # 增\n",
    "s1.remove(2)    # 删\n",
    "print(s1)"
   ]
  },
  {
   "cell_type": "markdown",
   "metadata": {},
   "source": [
    "- 字典和集合的排序"
   ]
  },
  {
   "cell_type": "code",
   "execution_count": 27,
   "metadata": {},
   "outputs": [
    {
     "output_type": "stream",
     "name": "stdout",
     "text": "[('d', 4), ('c', 2), ('b', 3), ('a', 1)]\n[('a', 1), ('c', 2), ('b', 3), ('d', 4)]\n{1, 2, 3, 4, 5, 6}\n"
    }
   ],
   "source": [
    "d1 = dict(a=1, b=3, c=2, d=4)\n",
    "sort_key = sorted(d1.items(), key=lambda x: x[0], reverse=True)\n",
    "print(sort_key)\n",
    "sort_value = sorted(d1.items(), key=lambda x: x[1])\n",
    "print(sort_value)\n",
    "\n",
    "s1 = {1, 2, 3, 6, 5, 4}\n",
    "sorted(s1)\n",
    "print(s1)"
   ]
  },
  {
   "cell_type": "markdown",
   "metadata": {},
   "source": [
    "- 字典的key不能是list，但可以是tuple"
   ]
  },
  {
   "cell_type": "code",
   "execution_count": 2,
   "metadata": {},
   "outputs": [
    {
     "output_type": "stream",
     "name": "stdout",
     "text": "{(1, 2): 'a', (3, 4): 'b'}\n"
    },
    {
     "output_type": "error",
     "ename": "TypeError",
     "evalue": "unhashable type: 'list'",
     "traceback": [
      "\u001b[1;31m---------------------------------------------------------------------------\u001b[0m",
      "\u001b[1;31mTypeError\u001b[0m                                 Traceback (most recent call last)",
      "\u001b[1;32m<ipython-input-2-925d85ac9de8>\u001b[0m in \u001b[0;36m<module>\u001b[1;34m()\u001b[0m\n\u001b[0;32m      2\u001b[0m \u001b[0mprint\u001b[0m\u001b[1;33m(\u001b[0m\u001b[0md1\u001b[0m\u001b[1;33m)\u001b[0m\u001b[1;33m\u001b[0m\u001b[0m\n\u001b[0;32m      3\u001b[0m \u001b[1;33m\u001b[0m\u001b[0m\n\u001b[1;32m----> 4\u001b[1;33m \u001b[0md2\u001b[0m \u001b[1;33m=\u001b[0m \u001b[1;33m{\u001b[0m\u001b[1;33m[\u001b[0m\u001b[1;36m1\u001b[0m\u001b[1;33m,\u001b[0m \u001b[1;36m2\u001b[0m\u001b[1;33m]\u001b[0m\u001b[1;33m:\u001b[0m \u001b[1;34m\"a\"\u001b[0m\u001b[1;33m,\u001b[0m \u001b[1;33m[\u001b[0m\u001b[1;36m3\u001b[0m\u001b[1;33m,\u001b[0m \u001b[1;36m4\u001b[0m\u001b[1;33m]\u001b[0m\u001b[1;33m:\u001b[0m \u001b[1;34m\"b\"\u001b[0m\u001b[1;33m}\u001b[0m\u001b[1;33m\u001b[0m\u001b[0m\n\u001b[0m\u001b[0;32m      5\u001b[0m \u001b[0mprint\u001b[0m\u001b[1;33m(\u001b[0m\u001b[0md2\u001b[0m\u001b[1;33m)\u001b[0m\u001b[1;33m\u001b[0m\u001b[0m\n",
      "\u001b[1;31mTypeError\u001b[0m: unhashable type: 'list'"
     ]
    }
   ],
   "source": [
    "d1 = {(1, 2): \"a\", (3, 4): \"b\"}\n",
    "print(d1)\n",
    "\n",
    "# 报错\n",
    "# d2 = {[1, 2]: \"a\", [3, 4]: \"b\"}\n"
   ]
  },
  {
   "cell_type": "code",
   "execution_count": null,
   "metadata": {},
   "outputs": [],
   "source": []
  }
 ],
 "metadata": {
  "kernelspec": {
   "display_name": "Python 3",
   "language": "python",
   "name": "python3"
  },
  "language_info": {
   "codemirror_mode": {
    "name": "ipython",
    "version": 3
   },
   "file_extension": ".py",
   "mimetype": "text/x-python",
   "name": "python",
   "nbconvert_exporter": "python",
   "pygments_lexer": "ipython3",
   "version": "3.7.0-final"
  }
 },
 "nbformat": 4,
 "nbformat_minor": 2
}