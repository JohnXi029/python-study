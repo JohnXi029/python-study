{
 "cells": [
  {
   "cell_type": "markdown",
   "metadata": {},
   "source": [
    "# 字典、集合，你真的了解吗？\n",
    "[04 | 字典、集合，你真的了解吗？](https://time.geekbang.org/column/article/95521)"
   ]
  },
  {
   "cell_type": "markdown",
   "metadata": {},
   "source": [
    "- 字典和集合的创建  \n",
    "    **四种创建字段的方式**  \n",
    "    **两种创建集合的方式**"
   ]
  },
  {
   "cell_type": "code",
   "execution_count": 1,
   "metadata": {},
   "outputs": [
    {
     "output_type": "stream",
     "name": "stdout",
     "text": "True\nTrue\n"
    }
   ],
   "source": [
    "d1 = {\"name\": \"张三\", \"age\": 18, \"gender\": \"male\"}\n",
    "d2 = dict({\"name\": \"张三\", \"age\": 18, \"gender\": \"male\"})\n",
    "d3 = dict([(\"name\", \"张三\"), (\"age\", 18), (\"gender\", \"male\")])\n",
    "d4 = dict(name=\"张三\", age=18, gender=\"male\")\n",
    "print(d1 == d2 == d3 == d4)\n",
    "\n",
    "s1 = {1, 2, 3}\n",
    "s2 = set([1, 2, 3])\n",
    "print(s1 == s2)"
   ]
  },
  {
   "cell_type": "markdown",
   "metadata": {},
   "source": [
    "- 访问字典"
   ]
  },
  {
   "cell_type": "code",
   "execution_count": 2,
   "metadata": {},
   "outputs": [
    {
     "output_type": "stream",
     "name": "stdout",
     "text": "Tom\nTom\nnot found!\n"
    }
   ],
   "source": [
    "d1 = dict(name=\"Tom\", age=19)\n",
    "print(d1[\"name\"])\n",
    "# 不存在的键，会报错\n",
    "# print(d1[\"other\"])\n",
    "\n",
    "# 使用get方法访问字典\n",
    "print(d1.get(\"name\"))\n",
    "print(d1.get(\"other\", \"not found!\"))"
   ]
  },
  {
   "cell_type": "markdown",
   "metadata": {},
   "source": [
    "- 访问集合和字典"
   ]
  },
  {
   "cell_type": "code",
   "execution_count": 3,
   "metadata": {},
   "outputs": [
    {
     "output_type": "stream",
     "name": "stdout",
     "text": "判断元素1是否属于集合： True\n遍历集合：\n1\n2\n3\n字段中是否包含name这个键： True\n遍历字典：\nname Tom\nage 19\n"
    }
   ],
   "source": [
    "s1 = {1, 2, 3}\n",
    "print(r\"判断元素1是否属于集合：\", 1 in s1)\n",
    "print(r\"遍历集合：\")\n",
    "for rec in s1:\n",
    "    print(rec)\n",
    "\n",
    "d1 = dict(name=\"Tom\", age=19)\n",
    "print(r\"字段中是否包含name这个键：\", \"name\" in d1)\n",
    "print(r\"遍历字典：\")\n",
    "for (key, value) in d1.items():\n",
    "    print(key, value)"
   ]
  },
  {
   "cell_type": "markdown",
   "metadata": {},
   "source": [
    "- 集合和字典的增删操作"
   ]
  },
  {
   "cell_type": "code",
   "execution_count": 4,
   "metadata": {},
   "outputs": [
    {
     "output_type": "stream",
     "name": "stdout",
     "text": "{'name': 'Jemmy', 'address': 'USA'}\n{1, 3, 4}\n"
    }
   ],
   "source": [
    "d1 = dict(name=\"Tom\", age=28)\n",
    "d1[\"name\"] = \"Jemmy\"    # 改\n",
    "d1[\"address\"] = \"USA\"   # 增\n",
    "d1.pop(\"age\")           # 删\n",
    "print(d1)\n",
    "\n",
    "s1 = {1, 2, 3}\n",
    "s1.add(4)       # 增\n",
    "s1.remove(2)    # 删\n",
    "print(s1)"
   ]
  },
  {
   "cell_type": "markdown",
   "metadata": {},
   "source": [
    "- 字典和集合的排序"
   ]
  },
  {
   "cell_type": "code",
   "execution_count": 5,
   "metadata": {},
   "outputs": [
    {
     "output_type": "stream",
     "name": "stdout",
     "text": "[('d', 4), ('c', 2), ('b', 3), ('a', 1)]\n[('a', 1), ('c', 2), ('b', 3), ('d', 4)]\n{1, 2, 3, 4, 5, 6}\n"
    }
   ],
   "source": [
    "d1 = dict(a=1, b=3, c=2, d=4)\n",
    "sort_key = sorted(d1.items(), key=lambda x: x[0], reverse=True)\n",
    "print(sort_key)\n",
    "sort_value = sorted(d1.items(), key=lambda x: x[1])\n",
    "print(sort_value)\n",
    "\n",
    "s1 = {1, 2, 3, 6, 5, 4}\n",
    "sorted(s1)\n",
    "print(s1)"
   ]
  },
  {
   "cell_type": "markdown",
   "metadata": {},
   "source": [
    "- 字典的key不能是list，但可以是tuple"
   ]
  },
  {
   "cell_type": "code",
   "execution_count": 6,
   "metadata": {},
   "outputs": [
    {
     "output_type": "stream",
     "name": "stdout",
     "text": "{(1, 2): 'a', (3, 4): 'b'}\n"
    }
   ],
   "source": [
    "d1 = {(1, 2): \"a\", (3, 4): \"b\"}\n",
    "print(d1)\n",
    "\n",
    "# 报错\n",
    "# d2 = {[1, 2]: \"a\", [3, 4]: \"b\"}\n",
    ""
   ]
  },
  {
   "cell_type": "code",
   "execution_count": 1,
   "metadata": {},
   "outputs": [
    {
     "output_type": "stream",
     "name": "stdout",
     "text": "time cost: 0.0024890000000006296\nuse list time cost: 0.7470658000000014\n"
    }
   ],
   "source": [
    "products = [(127846, 8973),\n",
    "    (123475, 897656),\n",
    "    (8347867, 973957),\n",
    "    (745683, 897656)]\n",
    "\n",
    "def find_unique_price_list(products):\n",
    "    \"\"\"\n",
    "    用列表的方式distinct价格\n",
    "    \"\"\"\n",
    "    unique_price_list = []\n",
    "    for _, price in products:\n",
    "        if price not in unique_price_list:\n",
    "            unique_price_list.append(price)\n",
    "    return len(unique_price_list)\n",
    "\n",
    "def find_unique_price(products):\n",
    "    unique_price_set = set()\n",
    "    for _, price in products:\n",
    "        unique_price_set.add(price)\n",
    "    return len(unique_price_set)\n",
    "\n",
    "ids = [x for x in range(0, 10000)]\n",
    "prices = [x for x in range(20000, 30000)]\n",
    "products = list(zip(ids, prices))\n",
    "\n",
    "import time\n",
    "start_using_list = time.perf_counter()\n",
    "find_unique_price(products)\n",
    "end_using_list = time.perf_counter()\n",
    "print(\"time cost: {}\".format(end_using_list - start_using_list))\n",
    "\n",
    "start_using_list = time.perf_counter()\n",
    "find_unique_price_list(products)\n",
    "end_using_list = time.perf_counter()\n",
    "print(\"use list time cost: {}\".format(end_using_list - start_using_list))\n",
    ""
   ]
  }
 ],
 "metadata": {
  "kernelspec": {
   "display_name": "Python 3",
   "language": "python",
   "name": "python3"
  },
  "language_info": {
   "codemirror_mode": {
    "name": "ipython",
    "version": 3
   },
   "file_extension": ".py",
   "mimetype": "text/x-python",
   "name": "python",
   "nbconvert_exporter": "python",
   "pygments_lexer": "ipython3",
   "version": "3.7.0-final"
  }
 },
 "nbformat": 4,
 "nbformat_minor": 2
}