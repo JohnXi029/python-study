{
 "nbformat": 4,
 "nbformat_minor": 2,
 "metadata": {
  "language_info": {
   "name": "python",
   "codemirror_mode": {
    "name": "ipython",
    "version": 3
   },
   "version": "3.7.0-final"
  },
  "orig_nbformat": 2,
  "file_extension": ".py",
  "mimetype": "text/x-python",
  "name": "python",
  "npconvert_exporter": "python",
  "pygments_lexer": "ipython3",
  "version": 3,
  "kernelspec": {
   "name": "python3",
   "display_name": "Python 3"
  }
 },
 "cells": [
  {
   "cell_type": "markdown",
   "metadata": {},
   "source": [
    "# 深入浅出字符串\n",
    "[05 | 深入浅出字符串](https://time.geekbang.org/column/article/95897)"
   ]
  },
  {
   "cell_type": "markdown",
   "metadata": {},
   "source": [
    "- 字符串的常用操作"
   ]
  },
  {
   "cell_type": "code",
   "execution_count": 1,
   "metadata": {},
   "outputs": [
    {
     "output_type": "stream",
     "name": "stdout",
     "text": "T\nmmy\nT\no\nm\nm\ny\n"
    }
   ],
   "source": [
    "s = r\"Tommy\"\n",
    "print(s[0])\n",
    "print(s[2:])\n",
    "for char in s:\n",
    "    print(char)"
   ]
  },
  {
   "cell_type": "markdown",
   "metadata": {},
   "source": [
    "- 可以使用`+=`来连接字符串，类似于java里面的`StringBuilder`"
   ]
  },
  {
   "cell_type": "markdown",
   "metadata": {},
   "source": [
    "- `join` 和 `split`"
   ]
  },
  {
   "cell_type": "code",
   "execution_count": 2,
   "metadata": {},
   "outputs": [
    {
     "output_type": "stream",
     "name": "stdout",
     "text": "abcd\n['', 'abc', 'def', 'asdf', ' ', '']\n"
    }
   ],
   "source": [
    "li = [\"a\", \"b\", \"c\", \"d\"]\n",
    "print(''.join(li))\n",
    "\n",
    "s = \"|abc|def|asdf| |\"\n",
    "print(s.split(\"|\"))"
   ]
  },
  {
   "cell_type": "markdown",
   "metadata": {},
   "source": [
    "- `strip`"
   ]
  },
  {
   "cell_type": "code",
   "execution_count": 3,
   "metadata": {},
   "outputs": [
    {
     "output_type": "stream",
     "name": "stdout",
     "text": "Hello world\nHello world\n  \n      Hello world\n"
    }
   ],
   "source": [
    "s = \"      Hello world\\n  \"\n",
    "\n",
    "print(s.strip())\n",
    "print(s.lstrip())\n",
    "print(s.rstrip())"
   ]
  },
  {
   "cell_type": "markdown",
   "metadata": {},
   "source": [
    "- 字符串的格式化"
   ]
  },
  {
   "cell_type": "code",
   "execution_count": 4,
   "metadata": {},
   "outputs": [
    {
     "output_type": "stream",
     "name": "stdout",
     "text": "My name is Tom, I'm 18 years old.\nMy name is Jack, I'm 18 years old.\n"
    }
   ],
   "source": [
    "print(r\"My name is {}, I'm {} years old.\".format(\"Tom\", 18))\n",
    "print(r\"My name is {name}, I'm {age} years old.\".format(age=18, name=\"Jack\"))\n",
    "\n",
    ""
   ]
  },
  {
   "cell_type": "markdown",
   "metadata": {},
   "source": [
    "- 字符串拼接速度对比  \n",
    "    结论：字符个数较小时，`+=`快；反之，`join`快"
   ]
  },
  {
   "cell_type": "code",
   "execution_count": 6,
   "metadata": {},
   "outputs": [
    {
     "output_type": "stream",
     "name": "stdout",
     "text": "Time cost: 0.08077780000002122\nTime cost with join: 0.045307600000001\nTime cost with map function: 0.025181999999972504\n"
    }
   ],
   "source": [
    "import time\n",
    "\n",
    "TOTAL = 100000\n",
    "\n",
    "start_time = time.perf_counter()\n",
    "s = \"\"\n",
    "for rec in range(1, TOTAL):\n",
    "    s += str(rec)\n",
    "end_time = time.perf_counter()\n",
    "print(\"Time cost: {}\".format(end_time - start_time))\n",
    "\n",
    "l = []\n",
    "start_time = time.perf_counter()\n",
    "for rec in range(1, TOTAL):\n",
    "    l.append(str(rec))\n",
    "s1 = ''.join(l)\n",
    "end_time = time.perf_counter()\n",
    "print(\"Time cost with join: {}\".format(end_time - start_time))\n",
    "\n",
    "start_time = time.perf_counter()\n",
    "''.join(map(str, range(1, TOTAL)))\n",
    "end_time = time.perf_counter()\n",
    "print(\"Time cost with map function: {}\".format(end_time - start_time))"
   ]
  }
 ]
}