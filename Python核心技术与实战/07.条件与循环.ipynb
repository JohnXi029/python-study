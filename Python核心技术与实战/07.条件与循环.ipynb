{
 "nbformat": 4,
 "nbformat_minor": 2,
 "metadata": {
  "language_info": {
   "name": "python",
   "codemirror_mode": {
    "name": "ipython",
    "version": 3
   },
   "version": "3.7.0-final"
  },
  "orig_nbformat": 2,
  "file_extension": ".py",
  "mimetype": "text/x-python",
  "name": "python",
  "npconvert_exporter": "python",
  "pygments_lexer": "ipython3",
  "version": 3,
  "kernelspec": {
   "name": "python37664bitopskitpythoncondaf67a8cf2e0b44e40b8b3667b45188baa",
   "display_name": "Python 3.7.6 64-bit ('ops-kit-python': conda)"
  }
 },
 "cells": [
  {
   "cell_type": "markdown",
   "metadata": {},
   "source": [
    "# 条件与循环\n",
    "[07 | 修炼基本功：条件与循环](https://time.geekbang.org/column/article/96597)"
   ]
  },
  {
   "cell_type": "markdown",
   "metadata": {},
   "source": [
    "- 判断条件的省略用法  \n",
    "\n",
    "| 数据类型 | 结果 |\n",
    "| ---      | ---  |\n",
    "| String   | 空字符串解析为False，其余为True |\n",
    "| Int      | 0解析为False，其余为True |\n",
    "| Bool     | True/false |\n",
    "| list/tuple/dict/set | Iterable为空解析为False，其余为True |\n",
    "| Object | None解析为True，其余为False |\n"
   ]
  },
  {
   "cell_type": "code",
   "execution_count": 4,
   "metadata": {},
   "outputs": [
    {
     "output_type": "stream",
     "name": "stdout",
     "text": "----\n不是空对象\n"
    }
   ],
   "source": [
    "obj = None\n",
    "list = []\n",
    "\n",
    "print('----')\n",
    "\n",
    "if obj:\n",
    "    print(r\"空对象\")\n",
    "else:\n",
    "    print(r\"不是空对象\")\n",
    "\n",
    "if list:\n",
    "    print(r\"空Iterable\")"
   ]
  },
  {
   "cell_type": "code",
   "execution_count": null,
   "metadata": {},
   "outputs": [],
   "source": []
  }
 ]
}