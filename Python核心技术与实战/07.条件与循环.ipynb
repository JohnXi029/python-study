{
 "nbformat": 4,
 "nbformat_minor": 2,
 "metadata": {
  "language_info": {
   "name": "python",
   "codemirror_mode": {
    "name": "ipython",
    "version": 3
   },
   "version": "3.7.0-final"
  },
  "orig_nbformat": 2,
  "file_extension": ".py",
  "mimetype": "text/x-python",
  "name": "python",
  "npconvert_exporter": "python",
  "pygments_lexer": "ipython3",
  "version": 3,
  "kernelspec": {
   "name": "python37664bitopskitpythoncondaf67a8cf2e0b44e40b8b3667b45188baa",
   "display_name": "Python 3.7.6 64-bit ('ops-kit-python': conda)"
  }
 },
 "cells": [
  {
   "cell_type": "markdown",
   "metadata": {},
   "source": [
    "# 条件与循环\n",
    "[07 | 修炼基本功：条件与循环](https://time.geekbang.org/column/article/96597)"
   ]
  },
  {
   "cell_type": "markdown",
   "metadata": {},
   "source": [
    "- 判断条件的省略用法  \n",
    "\n",
    "| 数据类型 | 结果 |\n",
    "| ---      | ---  |\n",
    "| String   | 空字符串解析为False，其余为True |\n",
    "| Int      | 0解析为False，其余为True |\n",
    "| Bool     | True/false |\n",
    "| list/tuple/dict/set | Iterable为空解析为False，其余为True |\n",
    "| Object | None解析为True，其余为False |\n",
    "\n",
    "**除了Bool，其他不建议用**"
   ]
  },
  {
   "cell_type": "code",
   "execution_count": 7,
   "metadata": {},
   "outputs": [
    {
     "output_type": "stream",
     "name": "stdout",
     "text": "数字不为0\nbool 是True\n对象为空\n集合里面没有元素\n"
    }
   ],
   "source": [
    "bool = True\n",
    "i = 1\n",
    "obj = None\n",
    "l = []\n",
    "\n",
    "if i:\n",
    "    print(\"数字不为0\")\n",
    "if bool:\n",
    "    print(\"bool 是True\")\n",
    "if not obj:\n",
    "    print(\"对象为空\")\n",
    "if not l:\n",
    "    print(\"集合里面没有元素\") "
   ]
  },
  {
   "cell_type": "markdown",
   "metadata": {},
   "source": [
    "- 遍历字典"
   ]
  },
  {
   "cell_type": "code",
   "execution_count": 18,
   "metadata": {},
   "outputs": [
    {
     "output_type": "stream",
     "name": "stdout",
     "text": "name-Tom; age-19; address-USA; \nname-Tom; age-19; address-USA; \nTom; 19; USA;"
    }
   ],
   "source": [
    "d1 = {\n",
    "    \"name\": \"Tom\",\n",
    "    \"age\": 19,\n",
    "    \"address\": \"USA\"\n",
    "}\n",
    "\n",
    "for key in d1:\n",
    "    print(f\"{key}-{d1[key]}\", end=\"; \")\n",
    "print()\n",
    "for k, v in d1.items():\n",
    "    print(f\"{k}-{v}\", end=\"; \")\n",
    "print()\n",
    "for v in d1.values():\n",
    "    print(f\"{v}\", end=\"; \")"
   ]
  },
  {
   "cell_type": "markdown",
   "metadata": {},
   "source": [
    "- 用内置函数`enumerate()`来遍历索引"
   ]
  },
  {
   "cell_type": "code",
   "execution_count": 19,
   "metadata": {},
   "outputs": [
    {
     "output_type": "stream",
     "name": "stdout",
     "text": "0-1; 1-2; 2-3; 3-4; 4-5; 5-6;"
    }
   ],
   "source": [
    "l = [1, 2, 3, 4, 5, 6]\n",
    "for index, item in enumerate(l):\n",
    "    print(f\"{index}-{item}\", end=\"; \")"
   ]
  },
  {
   "cell_type": "markdown",
   "metadata": {},
   "source": [
    "- `break` 和 `continue`"
   ]
  },
  {
   "cell_type": "markdown",
   "metadata": {},
   "source": [
    "- 高级用法\n",
    "    - `[expression if condition else expression2 for item in iterable]`\n",
    "    - `[expression for item in iterable if condition]`\n",
    "- 还可以嵌套！"
   ]
  },
  {
   "cell_type": "code",
   "execution_count": 30,
   "metadata": {},
   "outputs": [
    {
     "output_type": "stream",
     "name": "stdout",
     "text": "['Tom is old', 'Lucy is young', 'Jack Ma is old']\n['Tom is male', 'Jack Ma is male']\n"
    }
   ],
   "source": [
    "d1 = [\n",
    "    (\"Tom\", \"M\", 18),\n",
    "    (\"Lucy\", \"F\", 6),\n",
    "    (\"Jack Ma\", \"M\", 58)\n",
    "]\n",
    "s = [f\"{name} is young\" if age < 18 else f\"{name} is old\" for name, _, age in d1]\n",
    "print(s)\n",
    "s1 = [f\"{name} is male\" for name, gender, _ in d1 if gender == \"M\" ]\n",
    "print(s1)"
   ]
  },
  {
   "cell_type": "code",
   "execution_count": 31,
   "metadata": {},
   "outputs": [
    {
     "output_type": "stream",
     "name": "stdout",
     "text": "[(1, 'a'), (1, 'b'), (1, 'c'), (2, 'a'), (2, 'b'), (2, 'c'), (3, 'a'), (3, 'b'), (3, 'c'), (4, 'a'), (4, 'b'), (4, 'c'), (5, 'a'), (5, 'b'), (5, 'c')]\n"
    }
   ],
   "source": [
    "a = [1, 2, 3, 4, 5]\n",
    "b = [\"a\", \"b\", \"c\"]\n",
    "\n",
    "# 嵌套使用，求一个笛卡尔积\n",
    "l = [(aa, bb) for aa in a for bb in b if True] \n",
    "print(l)"
   ]
  },
  {
   "cell_type": "code",
   "execution_count": 40,
   "metadata": {},
   "outputs": [
    {
     "output_type": "stream",
     "name": "stdout",
     "text": "True\n[{'name': 'jason', 'dob': '2000-01-01', 'gender': 'male'}, {'name': 'mike', 'dob': '1999-01-01', 'gender': 'male'}, {'name': 'nancy', 'dob': '2001-02-01', 'gender': 'female'}]\n"
    }
   ],
   "source": [
    "attributes = ['name', 'dob', 'gender']\n",
    "values = [\n",
    "    ['jason', '2000-01-01', 'male'], \n",
    "    ['mike', '1999-01-01', 'male'],\n",
    "    ['nancy', '2001-02-01', 'female']\n",
    "]\n",
    "\n",
    "\"\"\"\n",
    "将以上两个，结合成字典组成的列表：\n",
    "[{'name': 'jason', 'dob': '2000-01-01', 'gender': 'male'}, \n",
    "{'name': 'mike', 'dob': '1999-01-01', 'gender': 'male'}, \n",
    "{'name': 'nancy', 'dob': '2001-02-01', 'gender': 'female'}]\n",
    "\"\"\"\n",
    "\n",
    "list1 = []\n",
    "for item in values:\n",
    "    d = dict()\n",
    "    for i in range(3):\n",
    "        d[attributes[i]] = item[i]\n",
    "    list1.append(d)\n",
    "\n",
    "list2 = [dict(zip(attributes, value)) for value in values]\n",
    "\n",
    "print(list1 == list2)\n",
    "print(list1)"
   ]
  },
  {
   "cell_type": "code",
   "execution_count": null,
   "metadata": {},
   "outputs": [],
   "source": []
  }
 ]
}